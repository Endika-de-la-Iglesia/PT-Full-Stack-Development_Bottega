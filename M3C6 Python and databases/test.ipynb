{
 "cells": [
  {
   "cell_type": "code",
   "execution_count": 35,
   "metadata": {},
   "outputs": [
    {
     "name": "stdout",
     "output_type": "stream",
     "text": [
      "Legolas: Observación y conversación diplomática - 18 (Normal)\n",
      "Gimli: Ataque - 17 (Normal)\n"
     ]
    }
   ],
   "source": [
    "import random\n",
    "\n",
    "def dado(func):\n",
    "    def wrapper (self):\n",
    "        dado = random.randint(1, 20)\n",
    "        if dado == 1:\n",
    "            resultado = \"Pifia\"\n",
    "        elif dado == 20:\n",
    "            resultado = \"Crítico\"\n",
    "        else:\n",
    "            resultado = \"Normal\"\n",
    "        print(f\"{self._nombre}: {func(self)} - {dado} ({resultado})\")\n",
    "    return wrapper\n",
    "\n",
    "class Personaje:\n",
    "    juego = \"D&D\"\n",
    "\n",
    "    def __init__(self, nombre, raza):\n",
    "        self._nombre = nombre\n",
    "        self._raza = raza\n",
    "        self._nivel = 1\n",
    "\n",
    "    def raza(self):\n",
    "        return self._raza\n",
    "\n",
    "    def nombre(self):\n",
    "        return self._nombre\n",
    "    \n",
    "    @property\n",
    "    def nivel(self):\n",
    "        return self._nivel\n",
    "    \n",
    "    @nivel.setter\n",
    "    def nivel(self, num):\n",
    "        self._nivel = num\n",
    "\n",
    "    @dado\n",
    "    def ataque(self):\n",
    "        return \"Ataque\"\n",
    "    \n",
    "    @dado\n",
    "    def defensa(self):\n",
    "        return \"Defensa\"\n",
    "    \n",
    "    @dado\n",
    "    def hablar(self):\n",
    "        return \"Conversación\"\n",
    "    \n",
    "class Explorador(Personaje):\n",
    "    @dado\n",
    "    def hablar(self):\n",
    "        return \"Observación y conversación diplomática\"\n",
    "    \n",
    "class Barbaro(Personaje):\n",
    "    @dado\n",
    "    def hablar(self):\n",
    "        return \"Ataque\"\n",
    "    \n",
    "\n",
    "personaje_uno = Explorador(\"Legolas\", \"Elfo del Bosque\")\n",
    "personaje_dos = Barbaro(\"Gimli\", \"Enano\")\n",
    "personaje_uno.hablar()\n",
    "personaje_dos.hablar()\n",
    "\n",
    "\n",
    "\n"
   ]
  },
  {
   "cell_type": "code",
   "execution_count": 1,
   "metadata": {},
   "outputs": [
    {
     "name": "stdout",
     "output_type": "stream",
     "text": [
      "Los atributos del user_one son: {'username': 'Endika', 'password': 'mi complicada contraseña'}\n"
     ]
    }
   ],
   "source": [
    "\"\"\"Create a Python class called User that uses the init \n",
    "method and creates a username and a password. \n",
    "Create an object using the class. \n",
    "\"\"\"\n",
    "class User:\n",
    "    def __init__(self, username, password):\n",
    "        self.username = username\n",
    "        self.password = password\n",
    "\n",
    "user_one = User(\"Endika\", \"mi complicada contraseña\")\n",
    "\n",
    "# Confirmar que todo funciona\n",
    "print(f\"Los atributos del user_one son: {user_one.__dict__}\")"
   ]
  }
 ],
 "metadata": {
  "kernelspec": {
   "display_name": "Python 3",
   "language": "python",
   "name": "python3"
  },
  "language_info": {
   "codemirror_mode": {
    "name": "ipython",
    "version": 3
   },
   "file_extension": ".py",
   "mimetype": "text/x-python",
   "name": "python",
   "nbconvert_exporter": "python",
   "pygments_lexer": "ipython3",
   "version": "3.11.5"
  }
 },
 "nbformat": 4,
 "nbformat_minor": 2
}
